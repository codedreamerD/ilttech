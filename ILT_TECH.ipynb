{
  "nbformat": 4,
  "nbformat_minor": 0,
  "metadata": {
    "colab": {
      "provenance": [],
      "authorship_tag": "ABX9TyOGY/Hw4ngm2AD9dcaDRBzb",
      "include_colab_link": true
    },
    "kernelspec": {
      "name": "python3",
      "display_name": "Python 3"
    },
    "language_info": {
      "name": "python"
    }
  },
  "cells": [
    {
      "cell_type": "markdown",
      "metadata": {
        "id": "view-in-github",
        "colab_type": "text"
      },
      "source": [
        "<a href=\"https://colab.research.google.com/github/codedreamerD/ilttech/blob/main/ILT_TECH.ipynb\" target=\"_parent\"><img src=\"https://colab.research.google.com/assets/colab-badge.svg\" alt=\"Open In Colab\"/></a>"
      ]
    },
    {
      "cell_type": "code",
      "execution_count": null,
      "metadata": {
        "id": "fuvQo0F_a17n",
        "colab": {
          "base_uri": "https://localhost:8080/"
        },
        "outputId": "3b8545a3-a571-4109-a51e-51c5ed1d7212"
      },
      "outputs": [
        {
          "output_type": "stream",
          "name": "stdout",
          "text": [
            "Requirement already satisfied: streamlit in /usr/local/lib/python3.11/dist-packages (1.42.2)\n",
            "Requirement already satisfied: altair<6,>=4.0 in /usr/local/lib/python3.11/dist-packages (from streamlit) (5.5.0)\n",
            "Requirement already satisfied: blinker<2,>=1.0.0 in /usr/local/lib/python3.11/dist-packages (from streamlit) (1.9.0)\n",
            "Requirement already satisfied: cachetools<6,>=4.0 in /usr/local/lib/python3.11/dist-packages (from streamlit) (5.5.2)\n",
            "Requirement already satisfied: click<9,>=7.0 in /usr/local/lib/python3.11/dist-packages (from streamlit) (8.1.8)\n",
            "Requirement already satisfied: numpy<3,>=1.23 in /usr/local/lib/python3.11/dist-packages (from streamlit) (1.26.4)\n",
            "Requirement already satisfied: packaging<25,>=20 in /usr/local/lib/python3.11/dist-packages (from streamlit) (24.2)\n",
            "Requirement already satisfied: pandas<3,>=1.4.0 in /usr/local/lib/python3.11/dist-packages (from streamlit) (2.2.2)\n",
            "Requirement already satisfied: pillow<12,>=7.1.0 in /usr/local/lib/python3.11/dist-packages (from streamlit) (11.1.0)\n",
            "Requirement already satisfied: protobuf<6,>=3.20 in /usr/local/lib/python3.11/dist-packages (from streamlit) (4.25.6)\n",
            "Requirement already satisfied: pyarrow>=7.0 in /usr/local/lib/python3.11/dist-packages (from streamlit) (18.1.0)\n",
            "Requirement already satisfied: requests<3,>=2.27 in /usr/local/lib/python3.11/dist-packages (from streamlit) (2.32.3)\n",
            "Requirement already satisfied: rich<14,>=10.14.0 in /usr/local/lib/python3.11/dist-packages (from streamlit) (13.9.4)\n",
            "Requirement already satisfied: tenacity<10,>=8.1.0 in /usr/local/lib/python3.11/dist-packages (from streamlit) (9.0.0)\n",
            "Requirement already satisfied: toml<2,>=0.10.1 in /usr/local/lib/python3.11/dist-packages (from streamlit) (0.10.2)\n",
            "Requirement already satisfied: typing-extensions<5,>=4.4.0 in /usr/local/lib/python3.11/dist-packages (from streamlit) (4.12.2)\n",
            "Requirement already satisfied: watchdog<7,>=2.1.5 in /usr/local/lib/python3.11/dist-packages (from streamlit) (6.0.0)\n",
            "Requirement already satisfied: gitpython!=3.1.19,<4,>=3.0.7 in /usr/local/lib/python3.11/dist-packages (from streamlit) (3.1.44)\n",
            "Requirement already satisfied: pydeck<1,>=0.8.0b4 in /usr/local/lib/python3.11/dist-packages (from streamlit) (0.9.1)\n",
            "Requirement already satisfied: tornado<7,>=6.0.3 in /usr/local/lib/python3.11/dist-packages (from streamlit) (6.4.2)\n",
            "Requirement already satisfied: jinja2 in /usr/local/lib/python3.11/dist-packages (from altair<6,>=4.0->streamlit) (3.1.5)\n",
            "Requirement already satisfied: jsonschema>=3.0 in /usr/local/lib/python3.11/dist-packages (from altair<6,>=4.0->streamlit) (4.23.0)\n",
            "Requirement already satisfied: narwhals>=1.14.2 in /usr/local/lib/python3.11/dist-packages (from altair<6,>=4.0->streamlit) (1.28.0)\n",
            "Requirement already satisfied: gitdb<5,>=4.0.1 in /usr/local/lib/python3.11/dist-packages (from gitpython!=3.1.19,<4,>=3.0.7->streamlit) (4.0.12)\n",
            "Requirement already satisfied: python-dateutil>=2.8.2 in /usr/local/lib/python3.11/dist-packages (from pandas<3,>=1.4.0->streamlit) (2.8.2)\n",
            "Requirement already satisfied: pytz>=2020.1 in /usr/local/lib/python3.11/dist-packages (from pandas<3,>=1.4.0->streamlit) (2025.1)\n",
            "Requirement already satisfied: tzdata>=2022.7 in /usr/local/lib/python3.11/dist-packages (from pandas<3,>=1.4.0->streamlit) (2025.1)\n",
            "Requirement already satisfied: charset-normalizer<4,>=2 in /usr/local/lib/python3.11/dist-packages (from requests<3,>=2.27->streamlit) (3.4.1)\n",
            "Requirement already satisfied: idna<4,>=2.5 in /usr/local/lib/python3.11/dist-packages (from requests<3,>=2.27->streamlit) (3.10)\n",
            "Requirement already satisfied: urllib3<3,>=1.21.1 in /usr/local/lib/python3.11/dist-packages (from requests<3,>=2.27->streamlit) (2.3.0)\n",
            "Requirement already satisfied: certifi>=2017.4.17 in /usr/local/lib/python3.11/dist-packages (from requests<3,>=2.27->streamlit) (2025.1.31)\n",
            "Requirement already satisfied: markdown-it-py>=2.2.0 in /usr/local/lib/python3.11/dist-packages (from rich<14,>=10.14.0->streamlit) (3.0.0)\n",
            "Requirement already satisfied: pygments<3.0.0,>=2.13.0 in /usr/local/lib/python3.11/dist-packages (from rich<14,>=10.14.0->streamlit) (2.18.0)\n",
            "Requirement already satisfied: smmap<6,>=3.0.1 in /usr/local/lib/python3.11/dist-packages (from gitdb<5,>=4.0.1->gitpython!=3.1.19,<4,>=3.0.7->streamlit) (5.0.2)\n",
            "Requirement already satisfied: MarkupSafe>=2.0 in /usr/local/lib/python3.11/dist-packages (from jinja2->altair<6,>=4.0->streamlit) (3.0.2)\n",
            "Requirement already satisfied: attrs>=22.2.0 in /usr/local/lib/python3.11/dist-packages (from jsonschema>=3.0->altair<6,>=4.0->streamlit) (25.1.0)\n",
            "Requirement already satisfied: jsonschema-specifications>=2023.03.6 in /usr/local/lib/python3.11/dist-packages (from jsonschema>=3.0->altair<6,>=4.0->streamlit) (2024.10.1)\n",
            "Requirement already satisfied: referencing>=0.28.4 in /usr/local/lib/python3.11/dist-packages (from jsonschema>=3.0->altair<6,>=4.0->streamlit) (0.36.2)\n",
            "Requirement already satisfied: rpds-py>=0.7.1 in /usr/local/lib/python3.11/dist-packages (from jsonschema>=3.0->altair<6,>=4.0->streamlit) (0.23.1)\n",
            "Requirement already satisfied: mdurl~=0.1 in /usr/local/lib/python3.11/dist-packages (from markdown-it-py>=2.2.0->rich<14,>=10.14.0->streamlit) (0.1.2)\n",
            "Requirement already satisfied: six>=1.5 in /usr/local/lib/python3.11/dist-packages (from python-dateutil>=2.8.2->pandas<3,>=1.4.0->streamlit) (1.17.0)\n"
          ]
        }
      ],
      "source": [
        "!pip install streamlit"
      ]
    },
    {
      "cell_type": "code",
      "source": [
        "%%writefile app.py\n",
        "\n",
        "import streamlit as st\n",
        "st.header('Proyek Analisis Data')"
      ],
      "metadata": {
        "colab": {
          "base_uri": "https://localhost:8080/"
        },
        "id": "Tj3wL_g-gKWi",
        "outputId": "7124bf40-f3d2-4a70-9b76-12b7923c8793"
      },
      "execution_count": null,
      "outputs": [
        {
          "output_type": "stream",
          "name": "stdout",
          "text": [
            "Overwriting app.py\n"
          ]
        }
      ]
    },
    {
      "cell_type": "code",
      "source": [
        "!streamlit run app.py & npx localtunnel --port 8501"
      ],
      "metadata": {
        "colab": {
          "base_uri": "https://localhost:8080/"
        },
        "id": "K5HKR7vMgL-O",
        "outputId": "b2bb7ea9-f036-4ca9-a48a-ec2b92f8a7bb"
      },
      "execution_count": null,
      "outputs": [
        {
          "output_type": "stream",
          "name": "stdout",
          "text": [
            "\n",
            "Collecting usage statistics. To deactivate, set browser.gatherUsageStats to false.\n",
            "\u001b[0m\n",
            "\u001b[1G\u001b[0K⠙\u001b[0m\n",
            "\u001b[34m\u001b[1m  You can now view your Streamlit app in your browser.\u001b[0m\n",
            "\u001b[0m\n",
            "\u001b[34m  Local URL: \u001b[0m\u001b[1mhttp://localhost:8501\u001b[0m\n",
            "\u001b[34m  Network URL: \u001b[0m\u001b[1mhttp://172.28.0.12:8501\u001b[0m\n",
            "\u001b[34m  External URL: \u001b[0m\u001b[1mhttp://104.196.36.61:8501\u001b[0m\n",
            "\u001b[0m\n",
            "\u001b[1G\u001b[0K⠹\u001b[1G\u001b[0K⠸\u001b[1G\u001b[0K⠼\u001b[1G\u001b[0K⠴\u001b[1G\u001b[0K⠦\u001b[1G\u001b[0K⠧\u001b[1G\u001b[0Kyour url is: https://rare-grapes-trade.loca.lt\n",
            "\u001b[34m  Stopping...\u001b[0m\n",
            "^C\n"
          ]
        }
      ]
    },
    {
      "cell_type": "markdown",
      "source": [
        "# Data Wrangling\n",
        "## Gathering Data\n",
        "### Membaca Berbagai Tipe Data Menggunakan Pandas"
      ],
      "metadata": {
        "id": "-CMyspjZkblO"
      }
    },
    {
      "cell_type": "code",
      "source": [
        "import pandas as pd\n",
        "\n",
        "df = pd.read_csv(\"day.csv\", delimiter=\",\")"
      ],
      "metadata": {
        "id": "Iiqk97caj3AR"
      },
      "execution_count": null,
      "outputs": []
    },
    {
      "cell_type": "code",
      "source": [
        "import pandas as pd\n",
        "\n",
        "df = pd.read_csv(\"hour.csv\", delimiter=\",\")"
      ],
      "metadata": {
        "id": "DE2OdEbtj5JE"
      },
      "execution_count": null,
      "outputs": []
    },
    {
      "cell_type": "markdown",
      "source": [
        "### Menggabungkan Beberapa Data Menjadi Satu DataFrame"
      ],
      "metadata": {
        "id": "cK58EKy8kmCh"
      }
    },
    {
      "source": [
        "import pandas as pd\n",
        "\n",
        "day_df = pd.read_csv(\"day.csv\")\n",
        "hour_df = pd.read_csv(\"hour.csv\")\n",
        "\n",
        "# For example, if the column is named 'dteday' in day_df and 'day' in hour_df:\n",
        "new_hour_df = pd.merge(\n",
        "    left=day_df,\n",
        "    right=hour_df,\n",
        "    how=\"inner\",\n",
        "    left_on=\"dteday\",  # Replace with the actual column name in day_df\n",
        "    right_on=\"dteday\"  # Replace with the actual column name in hour_df\n",
        ")"
      ],
      "cell_type": "code",
      "metadata": {
        "id": "nvs0HtTDi4cs"
      },
      "execution_count": null,
      "outputs": []
    },
    {
      "cell_type": "markdown",
      "source": [
        "## Assesing Data\n",
        "### Missing value"
      ],
      "metadata": {
        "id": "oI1Ihc-6kySw"
      }
    },
    {
      "cell_type": "code",
      "source": [
        "import pandas as pd\n",
        "day_df = pd.read_csv(\"day.csv\")\n",
        "\n",
        "day_df.isnull().sum()"
      ],
      "metadata": {
        "colab": {
          "base_uri": "https://localhost:8080/",
          "height": 585
        },
        "id": "TkyKohVakMDd",
        "outputId": "a6acc7e6-f849-4aa2-e578-3e40a0f314f6"
      },
      "execution_count": null,
      "outputs": [
        {
          "output_type": "execute_result",
          "data": {
            "text/plain": [
              "instant       0\n",
              "dteday        0\n",
              "season        0\n",
              "yr            0\n",
              "mnth          0\n",
              "holiday       0\n",
              "weekday       0\n",
              "workingday    0\n",
              "weathersit    0\n",
              "temp          0\n",
              "atemp         0\n",
              "hum           0\n",
              "windspeed     0\n",
              "casual        0\n",
              "registered    0\n",
              "cnt           0\n",
              "dtype: int64"
            ],
            "text/html": [
              "<div>\n",
              "<style scoped>\n",
              "    .dataframe tbody tr th:only-of-type {\n",
              "        vertical-align: middle;\n",
              "    }\n",
              "\n",
              "    .dataframe tbody tr th {\n",
              "        vertical-align: top;\n",
              "    }\n",
              "\n",
              "    .dataframe thead th {\n",
              "        text-align: right;\n",
              "    }\n",
              "</style>\n",
              "<table border=\"1\" class=\"dataframe\">\n",
              "  <thead>\n",
              "    <tr style=\"text-align: right;\">\n",
              "      <th></th>\n",
              "      <th>0</th>\n",
              "    </tr>\n",
              "  </thead>\n",
              "  <tbody>\n",
              "    <tr>\n",
              "      <th>instant</th>\n",
              "      <td>0</td>\n",
              "    </tr>\n",
              "    <tr>\n",
              "      <th>dteday</th>\n",
              "      <td>0</td>\n",
              "    </tr>\n",
              "    <tr>\n",
              "      <th>season</th>\n",
              "      <td>0</td>\n",
              "    </tr>\n",
              "    <tr>\n",
              "      <th>yr</th>\n",
              "      <td>0</td>\n",
              "    </tr>\n",
              "    <tr>\n",
              "      <th>mnth</th>\n",
              "      <td>0</td>\n",
              "    </tr>\n",
              "    <tr>\n",
              "      <th>holiday</th>\n",
              "      <td>0</td>\n",
              "    </tr>\n",
              "    <tr>\n",
              "      <th>weekday</th>\n",
              "      <td>0</td>\n",
              "    </tr>\n",
              "    <tr>\n",
              "      <th>workingday</th>\n",
              "      <td>0</td>\n",
              "    </tr>\n",
              "    <tr>\n",
              "      <th>weathersit</th>\n",
              "      <td>0</td>\n",
              "    </tr>\n",
              "    <tr>\n",
              "      <th>temp</th>\n",
              "      <td>0</td>\n",
              "    </tr>\n",
              "    <tr>\n",
              "      <th>atemp</th>\n",
              "      <td>0</td>\n",
              "    </tr>\n",
              "    <tr>\n",
              "      <th>hum</th>\n",
              "      <td>0</td>\n",
              "    </tr>\n",
              "    <tr>\n",
              "      <th>windspeed</th>\n",
              "      <td>0</td>\n",
              "    </tr>\n",
              "    <tr>\n",
              "      <th>casual</th>\n",
              "      <td>0</td>\n",
              "    </tr>\n",
              "    <tr>\n",
              "      <th>registered</th>\n",
              "      <td>0</td>\n",
              "    </tr>\n",
              "    <tr>\n",
              "      <th>cnt</th>\n",
              "      <td>0</td>\n",
              "    </tr>\n",
              "  </tbody>\n",
              "</table>\n",
              "</div><br><label><b>dtype:</b> int64</label>"
            ]
          },
          "metadata": {},
          "execution_count": 10
        }
      ]
    },
    {
      "cell_type": "code",
      "source": [
        "import pandas as pd\n",
        "hour_df = pd.read_csv(\"hour.csv\")\n",
        "\n",
        "hour_df.isnull().sum()"
      ],
      "metadata": {
        "colab": {
          "base_uri": "https://localhost:8080/",
          "height": 617
        },
        "id": "Ucpk-gZ5lQT3",
        "outputId": "c032715a-591c-44b8-cb39-c01d82c863c3"
      },
      "execution_count": null,
      "outputs": [
        {
          "output_type": "execute_result",
          "data": {
            "text/plain": [
              "instant       0\n",
              "dteday        0\n",
              "season        0\n",
              "yr            0\n",
              "mnth          0\n",
              "hr            0\n",
              "holiday       0\n",
              "weekday       0\n",
              "workingday    0\n",
              "weathersit    0\n",
              "temp          0\n",
              "atemp         0\n",
              "hum           0\n",
              "windspeed     0\n",
              "casual        0\n",
              "registered    0\n",
              "cnt           0\n",
              "dtype: int64"
            ],
            "text/html": [
              "<div>\n",
              "<style scoped>\n",
              "    .dataframe tbody tr th:only-of-type {\n",
              "        vertical-align: middle;\n",
              "    }\n",
              "\n",
              "    .dataframe tbody tr th {\n",
              "        vertical-align: top;\n",
              "    }\n",
              "\n",
              "    .dataframe thead th {\n",
              "        text-align: right;\n",
              "    }\n",
              "</style>\n",
              "<table border=\"1\" class=\"dataframe\">\n",
              "  <thead>\n",
              "    <tr style=\"text-align: right;\">\n",
              "      <th></th>\n",
              "      <th>0</th>\n",
              "    </tr>\n",
              "  </thead>\n",
              "  <tbody>\n",
              "    <tr>\n",
              "      <th>instant</th>\n",
              "      <td>0</td>\n",
              "    </tr>\n",
              "    <tr>\n",
              "      <th>dteday</th>\n",
              "      <td>0</td>\n",
              "    </tr>\n",
              "    <tr>\n",
              "      <th>season</th>\n",
              "      <td>0</td>\n",
              "    </tr>\n",
              "    <tr>\n",
              "      <th>yr</th>\n",
              "      <td>0</td>\n",
              "    </tr>\n",
              "    <tr>\n",
              "      <th>mnth</th>\n",
              "      <td>0</td>\n",
              "    </tr>\n",
              "    <tr>\n",
              "      <th>hr</th>\n",
              "      <td>0</td>\n",
              "    </tr>\n",
              "    <tr>\n",
              "      <th>holiday</th>\n",
              "      <td>0</td>\n",
              "    </tr>\n",
              "    <tr>\n",
              "      <th>weekday</th>\n",
              "      <td>0</td>\n",
              "    </tr>\n",
              "    <tr>\n",
              "      <th>workingday</th>\n",
              "      <td>0</td>\n",
              "    </tr>\n",
              "    <tr>\n",
              "      <th>weathersit</th>\n",
              "      <td>0</td>\n",
              "    </tr>\n",
              "    <tr>\n",
              "      <th>temp</th>\n",
              "      <td>0</td>\n",
              "    </tr>\n",
              "    <tr>\n",
              "      <th>atemp</th>\n",
              "      <td>0</td>\n",
              "    </tr>\n",
              "    <tr>\n",
              "      <th>hum</th>\n",
              "      <td>0</td>\n",
              "    </tr>\n",
              "    <tr>\n",
              "      <th>windspeed</th>\n",
              "      <td>0</td>\n",
              "    </tr>\n",
              "    <tr>\n",
              "      <th>casual</th>\n",
              "      <td>0</td>\n",
              "    </tr>\n",
              "    <tr>\n",
              "      <th>registered</th>\n",
              "      <td>0</td>\n",
              "    </tr>\n",
              "    <tr>\n",
              "      <th>cnt</th>\n",
              "      <td>0</td>\n",
              "    </tr>\n",
              "  </tbody>\n",
              "</table>\n",
              "</div><br><label><b>dtype:</b> int64</label>"
            ]
          },
          "metadata": {},
          "execution_count": 11
        }
      ]
    },
    {
      "cell_type": "markdown",
      "source": [
        "### Invalid value"
      ],
      "metadata": {
        "id": "MeJDi5HrlFIP"
      }
    },
    {
      "cell_type": "code",
      "source": [
        "import pandas as pd\n",
        "\n",
        "day_df = pd.read_csv(\"day.csv\")\n",
        "day_df.duplicated().sum()"
      ],
      "metadata": {
        "colab": {
          "base_uri": "https://localhost:8080/"
        },
        "id": "8sNchuuJkOV0",
        "outputId": "d46d1a5b-7b10-4e6e-c0bc-86810ac4fa2f"
      },
      "execution_count": null,
      "outputs": [
        {
          "output_type": "execute_result",
          "data": {
            "text/plain": [
              "0"
            ]
          },
          "metadata": {},
          "execution_count": 14
        }
      ]
    },
    {
      "cell_type": "code",
      "source": [
        "import pandas as pd\n",
        "\n",
        "hour_df = pd.read_csv(\"hour.csv\")\n",
        "hour_df.duplicated().sum()"
      ],
      "metadata": {
        "colab": {
          "base_uri": "https://localhost:8080/"
        },
        "id": "xW7SfVRrll-F",
        "outputId": "1f8ff34f-97f8-4184-fa28-f6006551c0bd"
      },
      "execution_count": null,
      "outputs": [
        {
          "output_type": "execute_result",
          "data": {
            "text/plain": [
              "0"
            ]
          },
          "metadata": {},
          "execution_count": 13
        }
      ]
    },
    {
      "cell_type": "markdown",
      "source": [
        "## Cleaning Data\n",
        "### Dropping"
      ],
      "metadata": {
        "id": "vePWYLAHl3Oq"
      }
    },
    {
      "cell_type": "code",
      "source": [
        "import pandas as pd\n",
        "\n",
        "day_df = pd.read_csv(\"day.csv\")\n",
        "\n",
        "day_df.dropna(axis=0, inplace=True)"
      ],
      "metadata": {
        "id": "vogMozr2lwO5"
      },
      "execution_count": null,
      "outputs": []
    },
    {
      "cell_type": "code",
      "source": [
        "import pandas as pd\n",
        "\n",
        "hour_df = pd.read_csv(\"hour.csv\")\n",
        "\n",
        "hour_df.dropna(axis=0, inplace=True)"
      ],
      "metadata": {
        "id": "_p0y0YzpmHwR"
      },
      "execution_count": null,
      "outputs": []
    },
    {
      "cell_type": "markdown",
      "source": [
        "### Imputation"
      ],
      "metadata": {
        "id": "QiNNWPLNmPPv"
      }
    },
    {
      "cell_type": "code",
      "source": [
        "import pandas as pd\n",
        "\n",
        "day_df=pd.read_csv('day.csv')\n",
        "\n",
        "day_df.yr.fillna(value=day_df['yr'].mean(), inplace=True)"
      ],
      "metadata": {
        "colab": {
          "base_uri": "https://localhost:8080/"
        },
        "id": "OVzSmzM6mSgL",
        "outputId": "d6158622-7f02-434b-fa67-d69574fce90e"
      },
      "execution_count": null,
      "outputs": [
        {
          "output_type": "stream",
          "name": "stderr",
          "text": [
            "<ipython-input-23-52d3c8d3eff4>:5: FutureWarning: A value is trying to be set on a copy of a DataFrame or Series through chained assignment using an inplace method.\n",
            "The behavior will change in pandas 3.0. This inplace method will never work because the intermediate object on which we are setting values always behaves as a copy.\n",
            "\n",
            "For example, when doing 'df[col].method(value, inplace=True)', try using 'df.method({col: value}, inplace=True)' or df[col] = df[col].method(value) instead, to perform the operation inplace on the original object.\n",
            "\n",
            "\n",
            "  day_df.yr.fillna(value=day_df['yr'].mean(), inplace=True)\n"
          ]
        }
      ]
    },
    {
      "cell_type": "markdown",
      "source": [
        "# Membaca Dataset"
      ],
      "metadata": {
        "id": "FQatkdzQ4zbn"
      }
    },
    {
      "cell_type": "code",
      "source": [
        "import pandas as pd\n",
        "\n",
        "# Load dataset\n",
        "day_df = pd.read_csv(\"day.csv\")\n",
        "\n",
        "# Menampilkan 5 baris pertama dari dataset harian\n",
        "print(day_df.head())"
      ],
      "metadata": {
        "colab": {
          "base_uri": "https://localhost:8080/"
        },
        "id": "mesOAxrH4tQK",
        "outputId": "c6ac51ee-1bd8-4d1a-99a3-67efe5aa33bd"
      },
      "execution_count": null,
      "outputs": [
        {
          "output_type": "stream",
          "name": "stdout",
          "text": [
            "   instant      dteday  season  yr  mnth  holiday  weekday  workingday  \\\n",
            "0        1  2011-01-01       1   0     1        0        6           0   \n",
            "1        2  2011-01-02       1   0     1        0        0           0   \n",
            "2        3  2011-01-03       1   0     1        0        1           1   \n",
            "3        4  2011-01-04       1   0     1        0        2           1   \n",
            "4        5  2011-01-05       1   0     1        0        3           1   \n",
            "\n",
            "   weathersit      temp     atemp       hum  windspeed  casual  registered  \\\n",
            "0           2  0.344167  0.363625  0.805833   0.160446     331         654   \n",
            "1           2  0.363478  0.353739  0.696087   0.248539     131         670   \n",
            "2           1  0.196364  0.189405  0.437273   0.248309     120        1229   \n",
            "3           1  0.200000  0.212122  0.590435   0.160296     108        1454   \n",
            "4           1  0.226957  0.229270  0.436957   0.186900      82        1518   \n",
            "\n",
            "    cnt  \n",
            "0   985  \n",
            "1   801  \n",
            "2  1349  \n",
            "3  1562  \n",
            "4  1600  \n"
          ]
        }
      ]
    },
    {
      "cell_type": "code",
      "source": [
        "import pandas as pd\n",
        "\n",
        "# Load dataset\n",
        "hour_df = pd.read_csv(\"hour.csv\")\n",
        "\n",
        "# Menampilkan 5 baris pertama dari dataset per jam\n",
        "print(hour_df.head())"
      ],
      "metadata": {
        "colab": {
          "base_uri": "https://localhost:8080/"
        },
        "id": "oMAGP5TL5_JI",
        "outputId": "f12d65db-034b-437e-e713-5de09c1f3b00"
      },
      "execution_count": null,
      "outputs": [
        {
          "output_type": "stream",
          "name": "stdout",
          "text": [
            "   instant      dteday  season  yr  mnth  hr  holiday  weekday  workingday  \\\n",
            "0        1  2011-01-01       1   0     1   0        0        6           0   \n",
            "1        2  2011-01-01       1   0     1   1        0        6           0   \n",
            "2        3  2011-01-01       1   0     1   2        0        6           0   \n",
            "3        4  2011-01-01       1   0     1   3        0        6           0   \n",
            "4        5  2011-01-01       1   0     1   4        0        6           0   \n",
            "\n",
            "   weathersit  temp   atemp   hum  windspeed  casual  registered  cnt  \n",
            "0           1  0.24  0.2879  0.81        0.0       3          13   16  \n",
            "1           1  0.22  0.2727  0.80        0.0       8          32   40  \n",
            "2           1  0.22  0.2727  0.80        0.0       5          27   32  \n",
            "3           1  0.24  0.2879  0.75        0.0       3          10   13  \n",
            "4           1  0.24  0.2879  0.75        0.0       0           1    1  \n"
          ]
        }
      ]
    },
    {
      "cell_type": "markdown",
      "source": [
        "# Melihat Informasi Umum tentang Dataset"
      ],
      "metadata": {
        "id": "ndcQwame5D6_"
      }
    },
    {
      "cell_type": "code",
      "source": [
        "# Melihat informasi dataset\n",
        "print(day_df.info())"
      ],
      "metadata": {
        "colab": {
          "base_uri": "https://localhost:8080/"
        },
        "id": "wxJLQ-eT6NJZ",
        "outputId": "19db4ae7-3453-4838-f082-4fe480648850"
      },
      "execution_count": null,
      "outputs": [
        {
          "output_type": "stream",
          "name": "stdout",
          "text": [
            "<class 'pandas.core.frame.DataFrame'>\n",
            "RangeIndex: 731 entries, 0 to 730\n",
            "Data columns (total 16 columns):\n",
            " #   Column      Non-Null Count  Dtype  \n",
            "---  ------      --------------  -----  \n",
            " 0   instant     731 non-null    int64  \n",
            " 1   dteday      731 non-null    object \n",
            " 2   season      731 non-null    int64  \n",
            " 3   yr          731 non-null    int64  \n",
            " 4   mnth        731 non-null    int64  \n",
            " 5   holiday     731 non-null    int64  \n",
            " 6   weekday     731 non-null    int64  \n",
            " 7   workingday  731 non-null    int64  \n",
            " 8   weathersit  731 non-null    int64  \n",
            " 9   temp        731 non-null    float64\n",
            " 10  atemp       731 non-null    float64\n",
            " 11  hum         731 non-null    float64\n",
            " 12  windspeed   731 non-null    float64\n",
            " 13  casual      731 non-null    int64  \n",
            " 14  registered  731 non-null    int64  \n",
            " 15  cnt         731 non-null    int64  \n",
            "dtypes: float64(4), int64(11), object(1)\n",
            "memory usage: 91.5+ KB\n",
            "None\n"
          ]
        }
      ]
    },
    {
      "cell_type": "code",
      "source": [
        "# Melihat informasi dataset\n",
        "print(hour_df.info())"
      ],
      "metadata": {
        "colab": {
          "base_uri": "https://localhost:8080/"
        },
        "id": "WbgXvuDq5HCr",
        "outputId": "35828df4-d113-4775-f400-7cad7427d8de"
      },
      "execution_count": null,
      "outputs": [
        {
          "output_type": "stream",
          "name": "stdout",
          "text": [
            "<class 'pandas.core.frame.DataFrame'>\n",
            "RangeIndex: 17379 entries, 0 to 17378\n",
            "Data columns (total 17 columns):\n",
            " #   Column      Non-Null Count  Dtype  \n",
            "---  ------      --------------  -----  \n",
            " 0   instant     17379 non-null  int64  \n",
            " 1   dteday      17379 non-null  object \n",
            " 2   season      17379 non-null  int64  \n",
            " 3   yr          17379 non-null  int64  \n",
            " 4   mnth        17379 non-null  int64  \n",
            " 5   hr          17379 non-null  int64  \n",
            " 6   holiday     17379 non-null  int64  \n",
            " 7   weekday     17379 non-null  int64  \n",
            " 8   workingday  17379 non-null  int64  \n",
            " 9   weathersit  17379 non-null  int64  \n",
            " 10  temp        17379 non-null  float64\n",
            " 11  atemp       17379 non-null  float64\n",
            " 12  hum         17379 non-null  float64\n",
            " 13  windspeed   17379 non-null  float64\n",
            " 14  casual      17379 non-null  int64  \n",
            " 15  registered  17379 non-null  int64  \n",
            " 16  cnt         17379 non-null  int64  \n",
            "dtypes: float64(4), int64(12), object(1)\n",
            "memory usage: 2.3+ MB\n",
            "None\n"
          ]
        }
      ]
    },
    {
      "cell_type": "code",
      "source": [
        "# Melihat statistik deskriptif\n",
        "print(day_df.describe())"
      ],
      "metadata": {
        "colab": {
          "base_uri": "https://localhost:8080/"
        },
        "id": "8V1yqnCp6UuY",
        "outputId": "a1b83761-30b1-42a2-dfef-27ec345994ce"
      },
      "execution_count": null,
      "outputs": [
        {
          "output_type": "stream",
          "name": "stdout",
          "text": [
            "          instant      season          yr        mnth     holiday     weekday  \\\n",
            "count  731.000000  731.000000  731.000000  731.000000  731.000000  731.000000   \n",
            "mean   366.000000    2.496580    0.500684    6.519836    0.028728    2.997264   \n",
            "std    211.165812    1.110807    0.500342    3.451913    0.167155    2.004787   \n",
            "min      1.000000    1.000000    0.000000    1.000000    0.000000    0.000000   \n",
            "25%    183.500000    2.000000    0.000000    4.000000    0.000000    1.000000   \n",
            "50%    366.000000    3.000000    1.000000    7.000000    0.000000    3.000000   \n",
            "75%    548.500000    3.000000    1.000000   10.000000    0.000000    5.000000   \n",
            "max    731.000000    4.000000    1.000000   12.000000    1.000000    6.000000   \n",
            "\n",
            "       workingday  weathersit        temp       atemp         hum   windspeed  \\\n",
            "count  731.000000  731.000000  731.000000  731.000000  731.000000  731.000000   \n",
            "mean     0.683995    1.395349    0.495385    0.474354    0.627894    0.190486   \n",
            "std      0.465233    0.544894    0.183051    0.162961    0.142429    0.077498   \n",
            "min      0.000000    1.000000    0.059130    0.079070    0.000000    0.022392   \n",
            "25%      0.000000    1.000000    0.337083    0.337842    0.520000    0.134950   \n",
            "50%      1.000000    1.000000    0.498333    0.486733    0.626667    0.180975   \n",
            "75%      1.000000    2.000000    0.655417    0.608602    0.730209    0.233214   \n",
            "max      1.000000    3.000000    0.861667    0.840896    0.972500    0.507463   \n",
            "\n",
            "            casual   registered          cnt  \n",
            "count   731.000000   731.000000   731.000000  \n",
            "mean    848.176471  3656.172367  4504.348837  \n",
            "std     686.622488  1560.256377  1937.211452  \n",
            "min       2.000000    20.000000    22.000000  \n",
            "25%     315.500000  2497.000000  3152.000000  \n",
            "50%     713.000000  3662.000000  4548.000000  \n",
            "75%    1096.000000  4776.500000  5956.000000  \n",
            "max    3410.000000  6946.000000  8714.000000  \n"
          ]
        }
      ]
    },
    {
      "cell_type": "code",
      "source": [
        "# Melihat statistik deskriptif\n",
        "print(hour_df.describe())"
      ],
      "metadata": {
        "colab": {
          "base_uri": "https://localhost:8080/"
        },
        "id": "237SjKN75SHe",
        "outputId": "993dab7a-bc48-4cec-b6af-1e68a9d08187"
      },
      "execution_count": null,
      "outputs": [
        {
          "output_type": "stream",
          "name": "stdout",
          "text": [
            "          instant        season            yr          mnth            hr  \\\n",
            "count  17379.0000  17379.000000  17379.000000  17379.000000  17379.000000   \n",
            "mean    8690.0000      2.501640      0.502561      6.537775     11.546752   \n",
            "std     5017.0295      1.106918      0.500008      3.438776      6.914405   \n",
            "min        1.0000      1.000000      0.000000      1.000000      0.000000   \n",
            "25%     4345.5000      2.000000      0.000000      4.000000      6.000000   \n",
            "50%     8690.0000      3.000000      1.000000      7.000000     12.000000   \n",
            "75%    13034.5000      3.000000      1.000000     10.000000     18.000000   \n",
            "max    17379.0000      4.000000      1.000000     12.000000     23.000000   \n",
            "\n",
            "            holiday       weekday    workingday    weathersit          temp  \\\n",
            "count  17379.000000  17379.000000  17379.000000  17379.000000  17379.000000   \n",
            "mean       0.028770      3.003683      0.682721      1.425283      0.496987   \n",
            "std        0.167165      2.005771      0.465431      0.639357      0.192556   \n",
            "min        0.000000      0.000000      0.000000      1.000000      0.020000   \n",
            "25%        0.000000      1.000000      0.000000      1.000000      0.340000   \n",
            "50%        0.000000      3.000000      1.000000      1.000000      0.500000   \n",
            "75%        0.000000      5.000000      1.000000      2.000000      0.660000   \n",
            "max        1.000000      6.000000      1.000000      4.000000      1.000000   \n",
            "\n",
            "              atemp           hum     windspeed        casual    registered  \\\n",
            "count  17379.000000  17379.000000  17379.000000  17379.000000  17379.000000   \n",
            "mean       0.475775      0.627229      0.190098     35.676218    153.786869   \n",
            "std        0.171850      0.192930      0.122340     49.305030    151.357286   \n",
            "min        0.000000      0.000000      0.000000      0.000000      0.000000   \n",
            "25%        0.333300      0.480000      0.104500      4.000000     34.000000   \n",
            "50%        0.484800      0.630000      0.194000     17.000000    115.000000   \n",
            "75%        0.621200      0.780000      0.253700     48.000000    220.000000   \n",
            "max        1.000000      1.000000      0.850700    367.000000    886.000000   \n",
            "\n",
            "                cnt  \n",
            "count  17379.000000  \n",
            "mean     189.463088  \n",
            "std      181.387599  \n",
            "min        1.000000  \n",
            "25%       40.000000  \n",
            "50%      142.000000  \n",
            "75%      281.000000  \n",
            "max      977.000000  \n"
          ]
        }
      ]
    },
    {
      "cell_type": "markdown",
      "source": [
        "# Visualisasi Distribusi Penyewaan Sepeda"
      ],
      "metadata": {
        "id": "3pbYPJG05Ya6"
      }
    },
    {
      "cell_type": "code",
      "source": [
        "import matplotlib.pyplot as plt\n",
        "import seaborn as sns\n",
        "\n",
        "# Histogram jumlah penyewaan harian\n",
        "plt.figure(figsize=(10, 5))\n",
        "sns.histplot(day_df[\"cnt\"], bins=30, kde=True)\n",
        "plt.title(\"Distribusi Jumlah Penyewaan Sepeda (Harian)\")\n",
        "plt.xlabel(\"Jumlah Penyewaan\")\n",
        "plt.ylabel(\"Frekuensi\")\n",
        "plt.show()"
      ],
      "metadata": {
        "colab": {
          "base_uri": "https://localhost:8080/",
          "height": 487
        },
        "id": "L5TCk6zz5Yww",
        "outputId": "b044c22c-5a08-4625-ed32-ab57415ca8f2"
      },
      "execution_count": null,
      "outputs": [
        {
          "output_type": "display_data",
          "data": {
            "text/plain": [
              "<Figure size 1000x500 with 1 Axes>"
            ],
            "image/png": "[encoded data removed]"
          },
          "metadata": {}
        }
      ]
    },
    {
      "cell_type": "markdown",
      "source": [
        "# Melihat Tren Penyewaan Sepeda berdasarkan Musim"
      ],
      "metadata": {
        "id": "Biizs2Xd5glo"
      }
    },
    {
      "cell_type": "code",
      "source": [
        "plt.figure(figsize=(8, 5))\n",
        "sns.boxplot(x=\"season\", y=\"cnt\", data=day_df)\n",
        "plt.title(\"Penyewaan Sepeda Berdasarkan Musim\")\n",
        "plt.xlabel(\"Musim (1:Spring, 2:Summer, 3:Fall, 4:Winter)\")\n",
        "plt.ylabel(\"Jumlah Penyewaan\")\n",
        "plt.show()"
      ],
      "metadata": {
        "colab": {
          "base_uri": "https://localhost:8080/",
          "height": 487
        },
        "id": "Ri8yOoav5hvd",
        "outputId": "f4b3ff4c-20ac-4ad1-ea94-a423729779c2"
      },
      "execution_count": null,
      "outputs": [
        {
          "output_type": "display_data",
          "data": {
            "text/plain": [
              "<Figure size 800x500 with 1 Axes>"
            ],
            "image/png": "[encoded data removed]"
          },
          "metadata": {}
        }
      ]
    },
    {
      "cell_type": "markdown",
      "source": [
        "#Melihat Pengaruh Cuaca terhadap Penyewaan Sepeda"
      ],
      "metadata": {
        "id": "N4aq8g4E5lFb"
      }
    },
    {
      "cell_type": "code",
      "source": [
        "plt.figure(figsize=(8, 5))\n",
        "sns.boxplot(x=\"weathersit\", y=\"cnt\", data=day_df)\n",
        "plt.title(\"Penyewaan Sepeda Berdasarkan Kondisi Cuaca\")\n",
        "plt.xlabel(\"Kondisi Cuaca (1:Cerah, 2:Mendung, 3:Hujan/Snow, 4:Hujan Lebat)\")\n",
        "plt.ylabel(\"Jumlah Penyewaan\")\n",
        "plt.show()"
      ],
      "metadata": {
        "colab": {
          "base_uri": "https://localhost:8080/",
          "height": 487
        },
        "id": "Iu3jIxjG5nXC",
        "outputId": "906b892d-b6cb-47bb-9a7c-2861ea4750bb"
      },
      "execution_count": null,
      "outputs": [
        {
          "output_type": "display_data",
          "data": {
            "text/plain": [
              "<Figure size 800x500 with 1 Axes>"
            ],
            "image/png": "[encoded data removed]"
          },
          "metadata": {}
        }
      ]
    },
    {
      "cell_type": "markdown",
      "source": [
        "Penjelasan Singkat:\n",
        "\n",
        "Kode di atas membaca dataset dan menampilkan informasi dasarnya.\n",
        "Histogram digunakan untuk melihat distribusi jumlah penyewaan sepeda.\n",
        "Boxplot membantu memahami bagaimana musim dan kondisi cuaca memengaruhi jumlah penyewaan."
      ],
      "metadata": {
        "id": "C9D83S-i5sA-"
      }
    },
    {
      "cell_type": "code",
      "source": [
        "!python --version"
      ],
      "metadata": {
        "colab": {
          "base_uri": "https://localhost:8080/"
        },
        "id": "zt4eyxvDZzcq",
        "outputId": "f937c3df-56b4-420a-8d24-7db73d89e610"
      },
      "execution_count": null,
      "outputs": [
        {
          "output_type": "stream",
          "name": "stdout",
          "text": [
            "Python 3.11.11\n"
          ]
        }
      ]
    },
    {
      "cell_type": "code",
      "source": [
        "print(\"Hello, Dicoding!\")"
      ],
      "metadata": {
        "colab": {
          "base_uri": "https://localhost:8080/"
        },
        "id": "hAAJvl2PZ_0H",
        "outputId": "730ae9c5-457e-4e61-904a-f8d82a84e2f1"
      },
      "execution_count": null,
      "outputs": [
        {
          "output_type": "stream",
          "name": "stdout",
          "text": [
            "Hello, Dicoding!\n"
          ]
        }
      ]
    },
    {
      "cell_type": "code",
      "source": [
        "# cv str to int\n",
        "phone = \"081289936820\"\n",
        "print(type(phone))\n",
        "\n",
        "phone_int = int(phone)\n",
        "print(type(phone_int))"
      ],
      "metadata": {
        "colab": {
          "base_uri": "https://localhost:8080/"
        },
        "id": "RDQIo4dfaFUH",
        "outputId": "adcdd5e0-79d9-49cd-875f-0bc1e7999759"
      },
      "execution_count": null,
      "outputs": [
        {
          "output_type": "stream",
          "name": "stdout",
          "text": [
            "<class 'str'>\n",
            "<class 'int'>\n"
          ]
        }
      ]
    },
    {
      "cell_type": "code",
      "source": [
        "# str\n",
        "color = \"red\"\n",
        "print(type(color))"
      ],
      "metadata": {
        "colab": {
          "base_uri": "https://localhost:8080/"
        },
        "id": "2qn8rhYnaUiW",
        "outputId": "665c866e-4042-4cb5-d709-c669f0839357"
      },
      "execution_count": null,
      "outputs": [
        {
          "output_type": "stream",
          "name": "stdout",
          "text": [
            "<class 'str'>\n"
          ]
        }
      ]
    },
    {
      "cell_type": "code",
      "source": [
        "# int\n",
        "length = \"10\""
      ],
      "metadata": {
        "id": "5N2sxBVwaba8"
      },
      "execution_count": null,
      "outputs": []
    },
    {
      "cell_type": "markdown",
      "source": [
        "https://colab.research.google.com/drive/1gyDzgKi6BokKz0G_8nSbKl_1t6nyH-6Q#scrollTo=dGGftZ9LabgwV\n",
        "\n",
        "# Comparison"
      ],
      "metadata": {
        "id": "Y4Hq4rKoalz7"
      }
    },
    {
      "cell_type": "code",
      "source": [
        "print (1<10)\n",
        "print(\"Linux\" == \"Windows\")\n",
        "###"
      ],
      "metadata": {
        "id": "1vscmgewbIID"
      },
      "execution_count": null,
      "outputs": []
    },
    {
      "cell_type": "code",
      "source": [
        "# Func\n",
        "def greeting(name):\n",
        "  return 'Hello, ' + name\n",
        "\n",
        "print(greeting('Dicoding 2025'))"
      ],
      "metadata": {
        "colab": {
          "base_uri": "https://localhost:8080/"
        },
        "id": "q-2blFtzbXzU",
        "outputId": "add4824d-5a6d-4d05-d5b0-1a2f006e5384"
      },
      "execution_count": null,
      "outputs": [
        {
          "output_type": "stream",
          "name": "stdout",
          "text": [
            "Hello, Dicoding 2025\n"
          ]
        }
      ]
    },
    {
      "cell_type": "code",
      "source": [
        "# conditional & if statement\n",
        "hour = 10\n",
        "if hour < 12:\n",
        "  print(\"Good morning!\")\n",
        "elif hour < 18:\n",
        "  print(\"Good afternoon!\")\n",
        "else:\n",
        "  print(\"Good evening!\")"
      ],
      "metadata": {
        "colab": {
          "base_uri": "https://localhost:8080/"
        },
        "id": "BmOBgZaqbon-",
        "outputId": "dd3ee03d-0e8f-4074-e45b-42cfd2cb37d6"
      },
      "execution_count": null,
      "outputs": [
        {
          "output_type": "stream",
          "name": "stdout",
          "text": [
            "Good morning!\n"
          ]
        }
      ]
    },
    {
      "cell_type": "code",
      "source": [
        "def check(number):\n",
        "  if number > 0:\n",
        "    return \"Positive\"\n",
        "  elif number == 0:\n",
        "    return \"Zero\"\n",
        "  else:\n",
        "    return \"Negative\"\n",
        "\n",
        "print(check(10))"
      ],
      "metadata": {
        "colab": {
          "base_uri": "https://localhost:8080/"
        },
        "id": "bBz4AcyYb6zx",
        "outputId": "6343a5a4-c3b2-4347-bbea-420dd0c90db2"
      },
      "execution_count": null,
      "outputs": [
        {
          "output_type": "stream",
          "name": "stdout",
          "text": [
            "Positive\n"
          ]
        }
      ]
    },
    {
      "cell_type": "code",
      "source": [
        "# Loops\n",
        "x = 7\n",
        "while x > 0:\n",
        "  print(\"positive x=\" + str(x))\n",
        "  x -= 1\n",
        "  if x == 4:\n",
        "    break\n",
        "    print(\"after break x=\" + str(x))"
      ],
      "metadata": {
        "colab": {
          "base_uri": "https://localhost:8080/"
        },
        "id": "2DxQXe1XcZ1d",
        "outputId": "f6b7776e-d415-4130-d076-1e9713786b27"
      },
      "execution_count": null,
      "outputs": [
        {
          "output_type": "stream",
          "name": "stdout",
          "text": [
            "positive x=7\n",
            "positive x=6\n",
            "positive x=5\n"
          ]
        }
      ]
    },
    {
      "cell_type": "code",
      "source": [
        "sentences = ['Dicoding is cool', 'I exercise every day']\n",
        "for word in sentences:\n",
        "  print(word)\n",
        "  print(word.split())"
      ],
      "metadata": {
        "colab": {
          "base_uri": "https://localhost:8080/"
        },
        "id": "YuTQcYFkct_k",
        "outputId": "007b67a5-d302-4d64-ff82-70ee0eda9df1"
      },
      "execution_count": null,
      "outputs": [
        {
          "output_type": "stream",
          "name": "stdout",
          "text": [
            "Dicoding is cool\n",
            "['Dicoding', 'is', 'cool']\n",
            "I exercise every day\n",
            "['I', 'exercise', 'every', 'day']\n"
          ]
        }
      ]
    },
    {
      "cell_type": "code",
      "source": [
        "sentences = ['Dicoding is cool', 'I exercise every day']\n",
        "for sentences in sentences:\n",
        "  print(sentences)\n",
        "  print(sentences.split())"
      ],
      "metadata": {
        "colab": {
          "base_uri": "https://localhost:8080/"
        },
        "id": "NfZR1_69dOc7",
        "outputId": "d447c598-0b32-431f-c205-f6289e5a9fd6"
      },
      "execution_count": null,
      "outputs": [
        {
          "output_type": "stream",
          "name": "stdout",
          "text": [
            "Dicoding is cool\n",
            "['Dicoding', 'is', 'cool']\n",
            "I exercise every day\n",
            "['I', 'exercise', 'every', 'day']\n"
          ]
        }
      ]
    },
    {
      "cell_type": "code",
      "source": [
        "# list\n",
        "fruits = ['apple','banana','orange']\n",
        "for fruit in fruits:\n",
        "  print(fruit)"
      ],
      "metadata": {
        "colab": {
          "base_uri": "https://localhost:8080/"
        },
        "id": "LjrEUtzJdRpH",
        "outputId": "4d4bd8d1-5805-47c2-bfe7-66129407270e"
      },
      "execution_count": null,
      "outputs": [
        {
          "output_type": "stream",
          "name": "stdout",
          "text": [
            "apple\n",
            "banana\n",
            "orange\n"
          ]
        }
      ]
    },
    {
      "cell_type": "code",
      "source": [
        "#list w diff data types\n",
        "mixed_list = [1, 2.5, 'apple', True, [3, 4, 5]]\n",
        "\n",
        "#accesing elements\n",
        "print(mixed_list[2]) # accessing a str\n",
        "print(mixed_list[4]) # accessing a nested list\n",
        "\n",
        "#modify the list\n",
        "mixed_list[1] = '10.5'\n",
        "print(mixed_list)\n",
        "\n",
        "for item in mixed_list:\n",
        "  print(item)\n",
        "  print(type(item))\n",
        "  print()"
      ],
      "metadata": {
        "colab": {
          "base_uri": "https://localhost:8080/"
        },
        "id": "N2Ph5iPEdeXy",
        "outputId": "318c56db-a203-4517-9e93-c4abed3b5d2d"
      },
      "execution_count": null,
      "outputs": [
        {
          "output_type": "stream",
          "name": "stdout",
          "text": [
            "apple\n",
            "[3, 4, 5]\n",
            "[1, '10.5', 'apple', True, [3, 4, 5]]\n",
            "1\n",
            "<class 'int'>\n",
            "\n",
            "10.5\n",
            "<class 'str'>\n",
            "\n",
            "apple\n",
            "<class 'str'>\n",
            "\n",
            "True\n",
            "<class 'bool'>\n",
            "\n",
            "[3, 4, 5]\n",
            "<class 'list'>\n",
            "\n"
          ]
        }
      ]
    },
    {
      "cell_type": "code",
      "source": [
        "outer_list = [\n",
        "    [1, 2, 3],\n",
        "    [4, 5, 6],\n",
        "    [7, 8, 9]\n",
        "]\n",
        "\n",
        "for inner_list in outer_list:\n",
        "  for item in inner_list:\n",
        "    print(item)"
      ],
      "metadata": {
        "colab": {
          "base_uri": "https://localhost:8080/"
        },
        "id": "S6TOtcFleKGY",
        "outputId": "66d8000a-d0c4-49e3-f4cf-4ecf8ad26e1e"
      },
      "execution_count": null,
      "outputs": [
        {
          "output_type": "stream",
          "name": "stdout",
          "text": [
            "1\n",
            "2\n",
            "3\n",
            "4\n",
            "5\n",
            "6\n",
            "7\n",
            "8\n",
            "9\n"
          ]
        }
      ]
    },
    {
      "cell_type": "code",
      "source": [
        "matrix = [\n",
        "  [1, 2, 3],\n",
        "  [4, 5, 6],\n",
        "  [7, 8, 9]\n",
        "]\n",
        "\n",
        "print (matrix[1][2])\n",
        "\n",
        "matrix[0][1] = 10\n",
        "matrix[2].append(10)\n",
        "print(matrix)"
      ],
      "metadata": {
        "colab": {
          "base_uri": "https://localhost:8080/"
        },
        "id": "LzuCId9JeaH5",
        "outputId": "62d552c2-cd5a-4116-cd22-19fe7f004635"
      },
      "execution_count": null,
      "outputs": [
        {
          "output_type": "stream",
          "name": "stdout",
          "text": [
            "6\n",
            "[[1, 10, 3], [4, 5, 6], [7, 8, 9, 10]]\n"
          ]
        }
      ]
    },
    {
      "cell_type": "code",
      "source": [
        "fruits = ['apple', 'banana', 'orange']\n",
        "\n",
        "length_of_fruits = len(fruits)\n",
        "print(length_of_fruits)"
      ],
      "metadata": {
        "colab": {
          "base_uri": "https://localhost:8080/"
        },
        "id": "WO2mUQC_fK9Q",
        "outputId": "28836f34-3aa4-4817-bdf7-23cfeb35f6fa"
      },
      "execution_count": null,
      "outputs": [
        {
          "output_type": "stream",
          "name": "stdout",
          "text": [
            "3\n"
          ]
        }
      ]
    },
    {
      "cell_type": "code",
      "source": [
        "# indexing\n",
        "numbers = [0,1,2,3,4,5,6,7,8,9]\n",
        "print(numbers[3])\n",
        "print(numbers[0:3])\n",
        "print(numbers[:3])\n",
        "print(numbers[3:])\n",
        "print(numbers[-3])\n",
        "print(numbers[::-1])\n",
        "print(numbers[1:9:2])"
      ],
      "metadata": {
        "colab": {
          "base_uri": "https://localhost:8080/"
        },
        "id": "b_fdRZp_fVjM",
        "outputId": "817cb81a-7e8c-46a4-b1c3-c665abb90cc4"
      },
      "execution_count": null,
      "outputs": [
        {
          "output_type": "stream",
          "name": "stdout",
          "text": [
            "3\n",
            "[0, 1, 2]\n",
            "[0, 1, 2]\n",
            "[3, 4, 5, 6, 7, 8, 9]\n",
            "7\n",
            "[9, 8, 7, 6, 5, 4, 3, 2, 1, 0]\n",
            "[1, 3, 5, 7]\n"
          ]
        }
      ]
    },
    {
      "cell_type": "code",
      "source": [
        "fruits.append('grape')\n",
        "fruits.extend(['mango', 'pineapple'])\n",
        "fruits += ['kiwi', 'strawberry']\n",
        "fruits.insert(2, 'kiwi')\n",
        "print(fruits)"
      ],
      "metadata": {
        "colab": {
          "base_uri": "https://localhost:8080/"
        },
        "id": "ucZ--MJvf4gG",
        "outputId": "f3c88dec-b8ed-4a77-937b-358b9404ae96"
      },
      "execution_count": null,
      "outputs": [
        {
          "output_type": "stream",
          "name": "stdout",
          "text": [
            "['apple', 'banana', 'kiwi', 'kiwi', 'kiwi', 'orange', 'grape', 'mango', 'pineapple', 'grape', 'mango', 'pineapple', 'kiwi', 'strawberry', 'grape', 'mango', 'pineapple', 'kiwi', 'strawberry', 'grape', 'mango', 'pineapple', 'kiwi', 'strawberry']\n"
          ]
        }
      ]
    },
    {
      "cell_type": "code",
      "source": [
        "fruits.remove('grape')\n",
        "removed_element = fruits.pop(2)\n",
        "del fruits[0]"
      ],
      "metadata": {
        "id": "gj_yPlu7ghaF"
      },
      "execution_count": null,
      "outputs": []
    },
    {
      "cell_type": "code",
      "source": [
        "# Using IN operator\n",
        "colors = ['blue', 'yellow']\n",
        "print('red' in colors)\n",
        "print('blue' in colors)"
      ],
      "metadata": {
        "colab": {
          "base_uri": "https://localhost:8080/"
        },
        "id": "U9KOpVWahGvG",
        "outputId": "59d874ce-7690-4e9a-dcd6-f749511968e4"
      },
      "execution_count": null,
      "outputs": [
        {
          "output_type": "stream",
          "name": "stdout",
          "text": [
            "False\n",
            "True\n"
          ]
        }
      ]
    },
    {
      "cell_type": "code",
      "source": [],
      "metadata": {
        "id": "SBAHNydKhdNK"
      },
      "execution_count": null,
      "outputs": []
    }
  ]
}